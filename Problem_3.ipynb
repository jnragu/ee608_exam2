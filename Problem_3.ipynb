{
  "nbformat": 4,
  "nbformat_minor": 0,
  "metadata": {
    "colab": {
      "name": "Problem_3.ipynb",
      "provenance": [],
      "authorship_tag": "ABX9TyNBaZEkOmxVLr4NauQYd8zn",
      "include_colab_link": true
    },
    "kernelspec": {
      "name": "python3",
      "display_name": "Python 3"
    },
    "language_info": {
      "name": "python"
    }
  },
  "cells": [
    {
      "cell_type": "markdown",
      "metadata": {
        "id": "view-in-github",
        "colab_type": "text"
      },
      "source": [
        "<a href=\"https://colab.research.google.com/github/jnragu/ee608_exam2/blob/main/Problem_3.ipynb\" target=\"_parent\"><img src=\"https://colab.research.google.com/assets/colab-badge.svg\" alt=\"Open In Colab\"/></a>"
      ]
    },
    {
      "cell_type": "markdown",
      "metadata": {
        "id": "i3Mh_9cahU-e"
      },
      "source": [
        "# Problem 3: Collect the stock price for Tesla (NASDAQ: TSLA) for the past 30 days. "
      ]
    },
    {
      "cell_type": "code",
      "metadata": {
        "id": "I_pAt_unhOcL"
      },
      "source": [
        "! pip install yfinance "
      ],
      "execution_count": null,
      "outputs": []
    },
    {
      "cell_type": "code",
      "metadata": {
        "colab": {
          "base_uri": "https://localhost:8080/",
          "height": 235
        },
        "id": "hNC2Qfd9ic6D",
        "outputId": "e49fcb4e-7b17-4919-a185-1c1a115b7201"
      },
      "source": [
        "import yfinance as yf\n",
        "\n",
        "tickerSymbol = 'TSLA'\n",
        "\n",
        "tickerData = yf.Ticker(tickerSymbol)\n",
        "\n",
        "tickerDf = tickerData.history(period = '1d', start = '2021-03-08', end = '2021-04-21')\n",
        "\n",
        "closing_price = tickerDf[['Close']]\n",
        "\n",
        "tickerDf.head(5)"
      ],
      "execution_count": 105,
      "outputs": [
        {
          "output_type": "execute_result",
          "data": {
            "text/html": [
              "<div>\n",
              "<style scoped>\n",
              "    .dataframe tbody tr th:only-of-type {\n",
              "        vertical-align: middle;\n",
              "    }\n",
              "\n",
              "    .dataframe tbody tr th {\n",
              "        vertical-align: top;\n",
              "    }\n",
              "\n",
              "    .dataframe thead th {\n",
              "        text-align: right;\n",
              "    }\n",
              "</style>\n",
              "<table border=\"1\" class=\"dataframe\">\n",
              "  <thead>\n",
              "    <tr style=\"text-align: right;\">\n",
              "      <th></th>\n",
              "      <th>Open</th>\n",
              "      <th>High</th>\n",
              "      <th>Low</th>\n",
              "      <th>Close</th>\n",
              "      <th>Volume</th>\n",
              "      <th>Dividends</th>\n",
              "      <th>Stock Splits</th>\n",
              "    </tr>\n",
              "    <tr>\n",
              "      <th>Date</th>\n",
              "      <th></th>\n",
              "      <th></th>\n",
              "      <th></th>\n",
              "      <th></th>\n",
              "      <th></th>\n",
              "      <th></th>\n",
              "      <th></th>\n",
              "    </tr>\n",
              "  </thead>\n",
              "  <tbody>\n",
              "    <tr>\n",
              "      <th>2021-03-08</th>\n",
              "      <td>600.549988</td>\n",
              "      <td>620.130005</td>\n",
              "      <td>558.789978</td>\n",
              "      <td>563.000000</td>\n",
              "      <td>51787000</td>\n",
              "      <td>0</td>\n",
              "      <td>0</td>\n",
              "    </tr>\n",
              "    <tr>\n",
              "      <th>2021-03-09</th>\n",
              "      <td>608.179993</td>\n",
              "      <td>678.090027</td>\n",
              "      <td>595.210022</td>\n",
              "      <td>673.580017</td>\n",
              "      <td>67523300</td>\n",
              "      <td>0</td>\n",
              "      <td>0</td>\n",
              "    </tr>\n",
              "    <tr>\n",
              "      <th>2021-03-10</th>\n",
              "      <td>700.299988</td>\n",
              "      <td>717.849976</td>\n",
              "      <td>655.059998</td>\n",
              "      <td>668.059998</td>\n",
              "      <td>60605700</td>\n",
              "      <td>0</td>\n",
              "      <td>0</td>\n",
              "    </tr>\n",
              "    <tr>\n",
              "      <th>2021-03-11</th>\n",
              "      <td>699.400024</td>\n",
              "      <td>702.500000</td>\n",
              "      <td>677.179993</td>\n",
              "      <td>699.599976</td>\n",
              "      <td>36253900</td>\n",
              "      <td>0</td>\n",
              "      <td>0</td>\n",
              "    </tr>\n",
              "    <tr>\n",
              "      <th>2021-03-12</th>\n",
              "      <td>670.000000</td>\n",
              "      <td>694.880005</td>\n",
              "      <td>666.140015</td>\n",
              "      <td>693.729980</td>\n",
              "      <td>33583800</td>\n",
              "      <td>0</td>\n",
              "      <td>0</td>\n",
              "    </tr>\n",
              "  </tbody>\n",
              "</table>\n",
              "</div>"
            ],
            "text/plain": [
              "                  Open        High  ...  Dividends  Stock Splits\n",
              "Date                                ...                         \n",
              "2021-03-08  600.549988  620.130005  ...          0             0\n",
              "2021-03-09  608.179993  678.090027  ...          0             0\n",
              "2021-03-10  700.299988  717.849976  ...          0             0\n",
              "2021-03-11  699.400024  702.500000  ...          0             0\n",
              "2021-03-12  670.000000  694.880005  ...          0             0\n",
              "\n",
              "[5 rows x 7 columns]"
            ]
          },
          "metadata": {
            "tags": []
          },
          "execution_count": 105
        }
      ]
    },
    {
      "cell_type": "markdown",
      "metadata": {
        "id": "KpwhVL21ik7p"
      },
      "source": [
        "## Part (a): Plot the data (date vs. stock price)"
      ]
    },
    {
      "cell_type": "code",
      "metadata": {
        "colab": {
          "base_uri": "https://localhost:8080/",
          "height": 298
        },
        "id": "Bpmlx94mie8L",
        "outputId": "b7e87fe6-080f-46c8-bae5-b0de3d957f57"
      },
      "source": [
        "from matplotlib.dates import AutoDateFormatter, AutoDateLocator \n",
        "import matplotlib.pyplot as plt\n",
        "\n",
        "xtick_locator = AutoDateLocator()\n",
        "xtick_formatter = AutoDateFormatter(xtick_locator)\n",
        "\n",
        "plt.figure(figsize = (12, 4))\n",
        "ax = plt.axes() \n",
        "ax.xaxis.set_major_locator(xtick_locator)\n",
        "ax.xaxis.set_major_formatter(xtick_formatter)\n",
        "ax.plot(closing_price.index, closing_price['Close'])\n",
        "plt.title('Tesla\\'s closing price for the past 30 days')"
      ],
      "execution_count": 106,
      "outputs": [
        {
          "output_type": "execute_result",
          "data": {
            "text/plain": [
              "Text(0.5, 1.0, \"Tesla's closing price for the past 30 days\")"
            ]
          },
          "metadata": {
            "tags": []
          },
          "execution_count": 106
        },
        {
          "output_type": "display_data",
          "data": {
            "image/png": "[encoded data removed]",
            "text/plain": [
              "<Figure size 864x288 with 1 Axes>"
            ]
          },
          "metadata": {
            "tags": [],
            "needs_background": "light"
          }
        }
      ]
    },
    {
      "cell_type": "markdown",
      "metadata": {
        "id": "erra8qPNiruB"
      },
      "source": [
        "## Part (b): Implement the stochastic gradient descent algorithm to fit a linear regression model for this data set. \n",
        "\n",
        "### Using the previous days price to predict the current day's price"
      ]
    },
    {
      "cell_type": "code",
      "metadata": {
        "colab": {
          "base_uri": "https://localhost:8080/"
        },
        "id": "taVmMfSUinJd",
        "outputId": "ec25001a-7ef3-4e53-81d0-dc2e2e95f2a6"
      },
      "source": [
        "from sklearn.linear_model import SGDRegressor\n",
        "from sklearn.preprocessing import StandardScaler\n",
        "\n",
        "prices = closing_price['Close'].to_numpy().reshape(len(closing_price), )\n",
        "\n",
        "x = prices[:-1].reshape(-1,1)\n",
        "y = prices[1:].reshape(-1,1)\n",
        "\n",
        "# Scale the x values\n",
        "scaler = StandardScaler()\n",
        "x_scaled = scaler.fit_transform(x)\n",
        "\n",
        "# Stochastic Gradient Descent model using squared loss and l2-norm\n",
        "sgd_model = SGDRegressor(loss = 'squared_loss', penalty = 'l2')\n",
        "sgd_model.fit(x_scaled, y)\n",
        "\n",
        "# Make predictions\n",
        "predictions = sgd_model.predict(x_scaled)\n",
        "\n",
        "predictions"
      ],
      "execution_count": 107,
      "outputs": [
        {
          "output_type": "stream",
          "text": [
            "/usr/local/lib/python3.7/dist-packages/sklearn/utils/validation.py:760: DataConversionWarning: A column-vector y was passed when a 1d array was expected. Please change the shape of y to (n_samples, ), for example using ravel().\n",
            "  y = column_or_1d(y, warn=True)\n"
          ],
          "name": "stderr"
        },
        {
          "output_type": "execute_result",
          "data": {
            "text/plain": [
              "array([612.45275096, 679.90819381, 676.5409004 , 695.7807526 ,\n",
              "       692.19996893, 700.8682921 , 681.92123507, 697.12889863,\n",
              "       667.45166555, 668.4948042 , 677.72433053, 672.94179841,\n",
              "       653.48845594, 659.66180235, 646.43668677, 641.91035043,\n",
              "       656.75202002, 676.4615955 , 672.69170874, 690.56513383,\n",
              "       690.91284671, 678.31602698, 686.1425268 , 682.00664608,\n",
              "       697.23259072, 734.04089786, 715.68553728, 719.72383203,\n",
              "       720.29117852, 704.94929235])"
            ]
          },
          "metadata": {
            "tags": []
          },
          "execution_count": 107
        }
      ]
    },
    {
      "cell_type": "markdown",
      "metadata": {
        "id": "0GnFlJW1oOcq"
      },
      "source": [
        "### Using the previous three days price to predict the current day's price"
      ]
    },
    {
      "cell_type": "code",
      "metadata": {
        "colab": {
          "base_uri": "https://localhost:8080/"
        },
        "id": "L-GXt9YCo3ZH",
        "outputId": "a197d069-9aac-4ce9-c05b-b11aa8bd4057"
      },
      "source": [
        "import numpy as np \n",
        "\n",
        "# Function that takes a time series and transforms it \n",
        "# Returns X and y values with X being the previous t days values\n",
        "\n",
        "def create_dataset(dataset, t):\n",
        "\tdataX, dataY = [], []\n",
        "\tfor i in range(len(dataset) - t - 1):\n",
        "\t\ta = dataset[i:(i + t), 0]\n",
        "\t\tdataX.append(a)\n",
        "\t\tdataY.append(dataset[i + t, 0])\n",
        "\treturn np.array(dataX), np.array(dataY)\n",
        " \n",
        "X, y = create_dataset(x, 3)\n",
        "\n",
        "# Scale the x values\n",
        "scaler_three_days = StandardScaler()\n",
        "X_scaled = scaler_three_days.fit_transform(X)\n",
        "\n",
        "# Stochastic Gradient Descent model using squared loss and l2-norm\n",
        "sgd_model_three_days = SGDRegressor(loss = 'squared_loss', penalty = 'l2')\n",
        "sgd_model_three_days.fit(X_scaled, y)\n",
        "predictions_three_days = sgd_model_three_days.predict(X_scaled)\n",
        "predictions_three_days"
      ],
      "execution_count": 108,
      "outputs": [
        {
          "output_type": "execute_result",
          "data": {
            "text/plain": [
              "array([689.53538818, 693.05214984, 698.67993071, 702.15364551,\n",
              "       685.13294874, 691.75898566, 669.25843948, 652.8315703 ,\n",
              "       671.58162376, 670.05204414, 642.94160258, 642.29835045,\n",
              "       634.80121309, 621.85214619, 640.32472164, 671.19398619,\n",
              "       672.17366536, 686.10487673, 695.75363757, 676.75906206,\n",
              "       679.89979288, 681.94991144, 695.67654994, 746.43482548,\n",
              "       738.34256821, 725.12104652])"
            ]
          },
          "metadata": {
            "tags": []
          },
          "execution_count": 108
        }
      ]
    },
    {
      "cell_type": "markdown",
      "metadata": {
        "id": "FVjPDyFuksxK"
      },
      "source": [
        "## Part (c): Plot the raw data and your linear regression model for visual comparison "
      ]
    },
    {
      "cell_type": "code",
      "metadata": {
        "colab": {
          "base_uri": "https://localhost:8080/",
          "height": 298
        },
        "id": "HyVY0GWlkxOx",
        "outputId": "3e1da112-36f1-4fc9-fcef-dfd7f8b373ff"
      },
      "source": [
        "# Find the dates of the predictions\n",
        "dates = closing_price.index.to_numpy()\n",
        "dates_predictions_three_days = dates + np.timedelta64(4, 'D')\n",
        "\n",
        "# Plot\n",
        "xtick_locator = AutoDateLocator()\n",
        "xtick_formatter = AutoDateFormatter(xtick_locator)\n",
        "\n",
        "plt.figure(figsize = (12, 4))\n",
        "ax = plt.axes() \n",
        "ax.xaxis.set_major_locator(xtick_locator)\n",
        "ax.xaxis.set_major_formatter(xtick_formatter)\n",
        "ax.plot(closing_price.index, closing_price['Close'], label = 'True price')\n",
        "ax.plot(dates[: predictions.shape[0]], predictions, label = 'Predicted price using previous day')\n",
        "ax.plot(dates_predictions_three_days[: predictions_three_days.shape[0]], predictions_three_days, label = 'Predicted price using previous three days')\n",
        "plt.legend()\n",
        "plt.title('Tesla\\'s closing price for the past 30 days')"
      ],
      "execution_count": 109,
      "outputs": [
        {
          "output_type": "execute_result",
          "data": {
            "text/plain": [
              "Text(0.5, 1.0, \"Tesla's closing price for the past 30 days\")"
            ]
          },
          "metadata": {
            "tags": []
          },
          "execution_count": 109
        },
        {
          "output_type": "display_data",
          "data": {
            "image/png": "[encoded data removed]",
            "text/plain": [
              "<Figure size 864x288 with 1 Axes>"
            ]
          },
          "metadata": {
            "tags": [],
            "needs_background": "light"
          }
        }
      ]
    },
    {
      "cell_type": "markdown",
      "metadata": {
        "id": "SunskaezlBv_"
      },
      "source": [
        "## Part (d): What does your model predict for Tesla's stock price for the next three months into the future?"
      ]
    },
    {
      "cell_type": "markdown",
      "metadata": {
        "id": "bjbDPTvMs5Yi"
      },
      "source": [
        "### Future predictions using previous day"
      ]
    },
    {
      "cell_type": "code",
      "metadata": {
        "colab": {
          "base_uri": "https://localhost:8080/"
        },
        "id": "BH0ay0FZs4bu",
        "outputId": "caef0343-29c4-4f8b-90d1-059d10e27d11"
      },
      "source": [
        "future_predictions = []\n",
        "\n",
        "# Last available price\n",
        "x = prices[-1].reshape(1, -1)\n",
        "\n",
        "# Make predictions\n",
        "for days in range(90): \n",
        "  x = sgd_model.predict(x)\n",
        "  future_predictions.append(x)\n",
        "  x = scaler.transform(x.reshape(1, -1))\n",
        "\n",
        "future_predictions = np.array(future_predictions)\n",
        "print('On ', str(future_predictions_dates[-1])[:10], ' Tesla\\'s price will be $', round(future_predictions[-1][0], 2), ' using the previous day\\'s price')"
      ],
      "execution_count": 150,
      "outputs": [
        {
          "output_type": "stream",
          "text": [
            "On  2021-07-19  Tesla's price will be $ 689.81  using the previous day's price\n"
          ],
          "name": "stdout"
        }
      ]
    },
    {
      "cell_type": "markdown",
      "metadata": {
        "id": "1zSR2hl_s97S"
      },
      "source": [
        "### Future predictions using previous three days"
      ]
    },
    {
      "cell_type": "code",
      "metadata": {
        "colab": {
          "base_uri": "https://localhost:8080/"
        },
        "id": "xktYMyWGtBWL",
        "outputId": "9c4e9451-7085-4088-a73e-1b466f4a8aa6"
      },
      "source": [
        "# Last available prices\n",
        "x = prices[len(prices) - 4: -1].reshape(1, -1)\n",
        "x = scaler_three_days.transform(x)\n",
        "\n",
        "future_predictions_three_days = []\n",
        "\n",
        "# Make predictions\n",
        "for days in range(90):\n",
        "  y = sgd_model_three_days.predict(x)\n",
        "  future_predictions_three_days.append(y)\n",
        "  x = np.append(x[0][1:], y)\n",
        "  x = scaler_three_days.transform(x.reshape(1,-1))\n",
        "\n",
        "future_predictions_three_days = np.array(future_predictions_three_days)\n",
        "print('On ', str(future_predictions_dates[-1])[:10], ' Tesla\\'s price will be $', round(future_predictions_three_days[-1][0], 2), ' using the previous three day\\'s price')"
      ],
      "execution_count": 151,
      "outputs": [
        {
          "output_type": "stream",
          "text": [
            "On  2021-07-19  Tesla's price will be $ 393.97  using the previous three day's price\n"
          ],
          "name": "stdout"
        }
      ]
    },
    {
      "cell_type": "code",
      "metadata": {
        "id": "qS-TnWHrwbYy"
      },
      "source": [
        "# Find the dates for the predictions\n",
        "future_predictions_dates = [dates[-1]]\n",
        "\n",
        "for days in range(90):\n",
        "  future_predictions_dates.append(future_predictions_dates[-1] + + np.timedelta64(1, 'D'))\n",
        "\n",
        "future_predictions_dates = future_predictions_dates[1:]\n",
        "future_predictions_dates = np.array(future_predictions_dates)"
      ],
      "execution_count": null,
      "outputs": []
    },
    {
      "cell_type": "code",
      "metadata": {
        "colab": {
          "base_uri": "https://localhost:8080/",
          "height": 298
        },
        "id": "Pv7-dbU2k7hu",
        "outputId": "8b365b33-16f0-4c2d-bcc5-6483f8007216"
      },
      "source": [
        "# Plot the predictions\n",
        "xtick_locator = AutoDateLocator()\n",
        "xtick_formatter = AutoDateFormatter(xtick_locator)\n",
        "\n",
        "plt.figure(figsize = (12, 4))\n",
        "ax = plt.axes() \n",
        "ax.xaxis.set_major_locator(xtick_locator)\n",
        "ax.xaxis.set_major_formatter(xtick_formatter)\n",
        "ax.plot(future_predictions_dates, future_predictions, label = 'Predicted price using previous day')\n",
        "ax.plot(future_predictions_dates, future_predictions_three_days, label = 'Predicted price using previous three days')\n",
        "plt.legend()\n",
        "plt.title('Tesla\\'s predicted price for three months into the future')"
      ],
      "execution_count": 130,
      "outputs": [
        {
          "output_type": "execute_result",
          "data": {
            "text/plain": [
              "Text(0.5, 1.0, \"Tesla's predicted price for three months into the future\")"
            ]
          },
          "metadata": {
            "tags": []
          },
          "execution_count": 130
        },
        {
          "output_type": "display_data",
          "data": {
            "image/png": "[encoded data removed]",
            "text/plain": [
              "<Figure size 864x288 with 1 Axes>"
            ]
          },
          "metadata": {
            "tags": [],
            "needs_background": "light"
          }
        }
      ]
    }
  ]
}