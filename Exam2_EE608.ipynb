{
  "nbformat": 4,
  "nbformat_minor": 0,
  "metadata": {
    "colab": {
      "name": "Exam2_EE608.ipynb",
      "provenance": [],
      "collapsed_sections": [],
      "authorship_tag": "ABX9TyPube3exARGoG6JqQ73jtu/",
      "include_colab_link": true
    },
    "kernelspec": {
      "name": "python3",
      "display_name": "Python 3"
    },
    "language_info": {
      "name": "python"
    }
  },
  "cells": [
    {
      "cell_type": "markdown",
      "metadata": {
        "id": "view-in-github",
        "colab_type": "text"
      },
      "source": [
        "<a href=\"https://colab.research.google.com/github/jnragu/ee608_exam2/blob/main/Exam2_EE608.ipynb\" target=\"_parent\"><img src=\"https://colab.research.google.com/assets/colab-badge.svg\" alt=\"Open In Colab\"/></a>"
      ]
    },
    {
      "cell_type": "markdown",
      "metadata": {
        "id": "XfzKV5Axp5Lr"
      },
      "source": [
        "# Problem 1\n",
        "\n",
        "Solve the following steepest descent algorithm. \n",
        "\n",
        "$$\n",
        "\\text{minimize } f(x) = (x_1 + 5)^2 + (x_2 + 8)^2 + (x_3 + 7)^2 + 2x_1^2x_2^2 + 4x_1^2x_3^2\n",
        "$$\n"
      ]
    },
    {
      "cell_type": "code",
      "metadata": {
        "id": "s6h-5xw0qyvP"
      },
      "source": [
        "import numpy as np\n",
        "\n",
        "np.random.seed(0)\n",
        "\n",
        "x = np.random.uniform(low = -100.0, high = 100.0, size = (100, 3))\n",
        "\n",
        "def f(x1, x2, x3):\n",
        "  return (x1 + 5)**2 + (x2 + 8)**2 + (x3 + 7)**2 + 2 * x1**2 * x2**2 + 4 * x1**2 * x2**2\n",
        "\n",
        "f = np.vectorize(f)"
      ],
      "execution_count": 1,
      "outputs": []
    },
    {
      "cell_type": "markdown",
      "metadata": {
        "id": "asqFqgmjRtJt"
      },
      "source": [
        "A search for a stationary point can be viewed as an iterative procedure of generating a point $\\pmb{x}^{(k+1)}$ which takes steps of certain length $t_k$ at direction $\\Delta\\pmb{x}^{(k)}$ from the previous point $\\pmb{x}^{(k})$.\n",
        "\n",
        "The direction $\\Delta\\pmb{x}^{(k)}$  decides which direction to search next, and the step size determines how far we go in that direction. \n",
        "\n",
        "The update rule can be written as\n",
        "$$\n",
        "\\pmb{x}^{(k+1)} = x^{(k)} + t_k\\Delta\\pmb{x}^{(k)}\n",
        "$$\n",
        "\n",
        "Given a particular point $\\pmb{x}$, we need to find the steepest direction such that $f(\\pmb{x} + \\pmb{d})$ is minimized. \n",
        "\n",
        "Approximating the function using first-order Taylor expansion\n",
        "$$\n",
        "  f(\\pmb{x} + \\pmb{d}) \\approx f(\\pmb{x}) + \\nabla f(\\pmb{x})^T \\pmb{d}\n",
        "$$\n",
        "\n",
        "The direction $\\pmb{b}$ that minimizes $f(\\pmb{x} + \\pmb{d})$ is\n",
        "\n",
        "$$\n",
        "\\min_{\\pmb{d}: \\lVert v \\rVert = 1} \\nabla f(\\pmb{x}^T d )\n",
        "$$\n",
        "\n",
        "Using $\\ell_2$ norm the steepest direction is\n",
        "$$\n",
        "d^* = \\frac{\\nabla f(\\pmb{x})}{\\lVert \\nabla f(\\pmb{x}) \\rVert}\n",
        "$$\n",
        "\n",
        "At each iteration, to minimize the function, $\\pmb{x}$ will be updated as\n",
        "\n",
        "$$\n",
        "\\pmb{x}^{(k+1)} = x^{(k)} - t_k \\nabla f (\\pmb{x}^{(k)})\n",
        "$$\n",
        "\n",
        "\n",
        "The steepest descent algorithm\n",
        "```\n",
        "Guess x_0, set $k <- 0$\n",
        "  while norm(gradient(f(x_k))) >= epsilon do\n",
        "    x_k+1 = x_k + t_k * gradient(f(x_k))\n",
        "    k = k + 1\n",
        "```\n",
        "### First derivative\n",
        "$$\n",
        "\\begin{align*}\n",
        "\tf(x) &= (x_1 + 5)^2 + (x_2 + 8)^2 + (x_3 + 7)^2 + 2x_1^2x_2^2 + 4x_1^2x_3^2 \\\\\n",
        "  \\frac{\\delta f}{\\delta x_1} &= 2(2x_1x_2^2 + 4x_1x_3^2 + x_1 + 5) \\\\\n",
        "  \\frac{\\delta f}{\\delta x_2} &= 2(2x_1^2x_2 + x_2 +8 ) \\\\\n",
        "  \\frac{\\delta f}{\\delta x_3} & = 2(4x_1^2x_3 + x_3 +7)\n",
        "\\end{align*}\n",
        "$$\n",
        "\n",
        "### Hessian\n",
        "$$\n",
        "\\begin{equation}\n",
        "H(x) = \\begin{bmatrix}\n",
        "\t4x_2^2 + 8x_3^2 & 8x_1x_2 & 16x_1x_3 \\\\\n",
        "  8x_1x_2  & 4x_1^2+2 & 0 \\\\\n",
        "  16x_1x_3 & 0 & 8x_1^2+2\n",
        "\\end{bmatrix}\n",
        "\\end{equation}\n",
        "$$"
      ]
    },
    {
      "cell_type": "code",
      "metadata": {
        "id": "UClHpmtYml85"
      },
      "source": [
        "def partial_x1(x1, x2, x3):\n",
        "  return 2 * (2 * x1 * x2**2 + 4 * x1 * x3**2 + x1 + 5)\n",
        "\n",
        "def partial_x2(x1, x2, x3):\n",
        "  return 2 * (2 * x1**2 * x2 + x2 + 8)\n",
        "\n",
        "def partial_x3(x1, x2, x3):\n",
        "  return 2 * (4 * x1**2 * x3 + x3 +7)\n",
        "\n",
        "def compute_gradient(x1, x2, x3):\n",
        "  dx1 = partial_x1(x1, x2, x3)\n",
        "  dx2 = partial_x2(x1, x2, x3)\n",
        "  dx3 = partial_x3(x1, x2, x3)\n",
        "\n",
        "  return np.array([dx1, dx2, dx3])\n",
        "\n",
        "def unpack(x):\n",
        "  return x[0], x[1], x[2]"
      ],
      "execution_count": 2,
      "outputs": []
    },
    {
      "cell_type": "code",
      "metadata": {
        "id": "z3tamrl_Q2h1"
      },
      "source": [
        "def l2_norm(x1, x2, x3):\n",
        "  gradient = compute_gradient(x1, x2, x3)\n",
        "  return np.linalg.norm(gradient)\n",
        "\n",
        "def steepest_descent_iteration(x, alpha):\n",
        "  x1, x2, x3 = unpack(x)\n",
        "  gradient = compute_gradient(x1, x2, x3)  \n",
        "  new_x = x - alpha * gradient\n",
        "  return new_x\n",
        "\n",
        "def run_steepest_descent(x, alpha, epsilon):\n",
        "  x1, x2, x3 = unpack(x)\n",
        "  l2_norms = []\n",
        "  iterations = 1\n",
        "  \n",
        "  gradient = compute_gradient(x1, x2, x3)\n",
        "  norm = l2_norm(x1, x2, x3)\n",
        "  l2_norms.append(norm)\n",
        "\n",
        "  while norm >= epsilon:\n",
        "    x = steepest_descent_iteration(x, alpha)\n",
        "    norm = l2_norm(x[0], x[1], x[2])\n",
        "    l2_norms.append(norm)\n",
        "    iterations += 1\n",
        "  return x, iterations, l2_norms"
      ],
      "execution_count": 10,
      "outputs": []
    },
    {
      "cell_type": "code",
      "metadata": {
        "colab": {
          "base_uri": "https://localhost:8080/"
        },
        "id": "yWo9WXbtbhvD",
        "outputId": "54d195dd-5ee8-4ec2-f2af-789ec86b0319"
      },
      "source": [
        "x = np.array([1, 1, 1])\n",
        "epsilon = 1e-6\n",
        "alpha = 0.0001\n",
        "\n",
        "x, iterations, l2_norms = run_steepest_descent(x, alpha, epsilon)\n",
        "x"
      ],
      "execution_count": 12,
      "outputs": [
        {
          "output_type": "execute_result",
          "data": {
            "text/plain": [
              "array([-0.015408  , -7.99620293, -6.99335859])"
            ]
          },
          "metadata": {
            "tags": []
          },
          "execution_count": 12
        }
      ]
    },
    {
      "cell_type": "markdown",
      "metadata": {
        "id": "8j-O1o8wqsU4"
      },
      "source": [
        "## Part (a): Verify  that the final solution satisfies the second order necessary conditions for a minimum. \n",
        "\n",
        "The Hessian must be a positive semidefinite.\n"
      ]
    },
    {
      "cell_type": "code",
      "metadata": {
        "id": "cZTPm5WJdqwm"
      },
      "source": [
        "def compute_Hessian(x1, x2, x3):\n",
        "  H = np.array([[4 * x2**2 + 8 * np.square(x3) + 2, 8 * x1 * x2, 16 * x1 * x3],\n",
        "            [8 * x1 * x2, 4 * x1**2 + 2, 0 ],\n",
        "            [16 * x1 * x3, 0, 8 * x1**2 + 2]])\n",
        "  return H"
      ],
      "execution_count": 19,
      "outputs": []
    },
    {
      "cell_type": "code",
      "metadata": {
        "colab": {
          "base_uri": "https://localhost:8080/"
        },
        "id": "imqZ4HKS48sU",
        "outputId": "4a509be7-c0a8-4000-d4a3-2b5b7a5fe35d"
      },
      "source": [
        "H = compute_Hessian(x[0], x[1], x[2])\n",
        "np.linalg.cholesky(H)"
      ],
      "execution_count": 21,
      "outputs": [
        {
          "output_type": "execute_result",
          "data": {
            "text/plain": [
              "array([[ 2.54757445e+01,  0.00000000e+00,  0.00000000e+00],\n",
              "       [ 3.86895019e-02,  1.41402007e+00,  0.00000000e+00],\n",
              "       [ 6.76745107e-02, -1.85166616e-03,  1.41326430e+00]])"
            ]
          },
          "metadata": {
            "tags": []
          },
          "execution_count": 21
        }
      ]
    },
    {
      "cell_type": "markdown",
      "metadata": {
        "id": "yW3e_o5S51Ko"
      },
      "source": [
        "H is a positive semidefinite, therefore the second order necessary conditions for a minimum are satisfied."
      ]
    },
    {
      "cell_type": "markdown",
      "metadata": {
        "id": "JZvE_CJrqtY0"
      },
      "source": [
        "## Part (b): Plot the value of the objective function with respect to the number of iterations\n"
      ]
    },
    {
      "cell_type": "code",
      "metadata": {
        "id": "M4aO7jbUqx-b",
        "colab": {
          "base_uri": "https://localhost:8080/",
          "height": 367
        },
        "outputId": "7c292e4a-4063-4e4d-bb0c-4329ee68706d"
      },
      "source": [
        "import matplotlib.pyplot as plt\n",
        "import pandas as pd \n",
        "import seaborn as sns\n",
        "\n",
        "df = pd.DataFrame(data = l2_norms, columns = ['l2 norm'])\n",
        "df['Iterations'] = np.arange(1, iterations + 1)\n",
        "\n",
        "plt.figure(figsize = (10, 5))\n",
        "sns.lineplot(data = df, x = 'Iterations', y = 'l2 norm')\n",
        "plt.title('Objective function with respect to number of iterations')"
      ],
      "execution_count": 34,
      "outputs": [
        {
          "output_type": "execute_result",
          "data": {
            "text/plain": [
              "Text(0.5, 1.0, 'Objective function with respect to number of iterations')"
            ]
          },
          "metadata": {
            "tags": []
          },
          "execution_count": 34
        },
        {
          "output_type": "display_data",
          "data": {
            "image/png": "[encoded data removed]",
            "text/plain": [
              "<Figure size 720x360 with 1 Axes>"
            ]
          },
          "metadata": {
            "tags": [],
            "needs_background": "light"
          }
        }
      ]
    },
    {
      "cell_type": "markdown",
      "metadata": {
        "id": "2NYzDwANqvYJ"
      },
      "source": [
        "## Part (c) Comment on the convergence speed of the algorithm"
      ]
    },
    {
      "cell_type": "code",
      "metadata": {
        "id": "hPNWm1_3p4Xe"
      },
      "source": [
        ""
      ],
      "execution_count": null,
      "outputs": []
    },
    {
      "cell_type": "markdown",
      "metadata": {
        "id": "VS1QWU2kqxAd"
      },
      "source": [
        "# Problem 2: Consider the problem\n",
        "$$\n",
        "\\begin{align*}\n",
        "\t\\min{f(x)} \\ &\\text{ such that } h(x) \\geq 0 \\\\\n",
        "&\\text{where } \\ f(x) = (x_1-1)^2 + 2(x_2 - 2)^2 \\\\\n",
        "&\\text{and } \\ h(x) = \\begin{bmatrix}\n",
        "\t1 - x_1^2 - x_2^2 \\\\\n",
        "  x_1 + x_2\n",
        "\\end{bmatrix}\n",
        "\\end{align*}\n",
        "$$"
      ]
    },
    {
      "cell_type": "markdown",
      "metadata": {
        "id": "3BSFVcnFrf5r"
      },
      "source": [
        "## Part (a): Plot the contour plot of $f(x)$ and the feasible set on one single figure, i.e., overlay the feasible set on the contour plot of $f(x)$. "
      ]
    },
    {
      "cell_type": "markdown",
      "metadata": {
        "id": "eR_T71eQr-TJ"
      },
      "source": [
        "## Part (b): Find a solution to the problem using the natural logarithmic barrier function\n",
        "\n",
        "The barrier function is \n",
        "$$\n",
        "\\log{h_1(x)} - \\log{h_2(x)}\n",
        "$$\n",
        "Use initialization vector $\\begin{bmatrix}\n",
        "\t0.5 \\\\ 0.5\n",
        "\\end{bmatrix}$\n",
        "The initial penalty parameter equal to $1$.\n",
        "\n",
        "Reduce the penalty parametery by $\\frac{1}{2}$ in each iteration. \n",
        "\n",
        "Use a stopping threshold of $0.002$."
      ]
    },
    {
      "cell_type": "markdown",
      "metadata": {
        "id": "hAAVhxQssZhK"
      },
      "source": [
        "## Part (c): In a 2-D figure, plot the trajectory (i.e., the values connected by lines with arrows) of the computed solution vector as the number of iteration progresses. "
      ]
    },
    {
      "cell_type": "markdown",
      "metadata": {
        "id": "2L0l63nZs35Z"
      },
      "source": [
        "# Problem 3: Collect the stock price for Tesla (NASDAQ: TSLA) for the past 30 days. "
      ]
    },
    {
      "cell_type": "code",
      "metadata": {
        "id": "BKcsa-jntAG9"
      },
      "source": [
        ""
      ],
      "execution_count": null,
      "outputs": []
    },
    {
      "cell_type": "markdown",
      "metadata": {
        "id": "YmmsXxcqtAmY"
      },
      "source": [
        "## Part (a): Plot the data (date vs. stock price)"
      ]
    },
    {
      "cell_type": "markdown",
      "metadata": {
        "id": "JEDC2FlstDbG"
      },
      "source": [
        "## Part (b): Implement the stochastic gradient descent algorithm to fit a linear regression model for this data set. \n"
      ]
    },
    {
      "cell_type": "markdown",
      "metadata": {
        "id": "LJVhjjLVtOr7"
      },
      "source": [
        "## Part (c): Plot the raw data and your linear regression model for visual comparison "
      ]
    },
    {
      "cell_type": "markdown",
      "metadata": {
        "id": "gG5ZNTCbtSZe"
      },
      "source": [
        "## Part (d): What does your model predict for Tesla's stock price for the next three months into the future?"
      ]
    },
    {
      "cell_type": "markdown",
      "metadata": {
        "id": "1-IvI2t0tX4l"
      },
      "source": [
        "## Part (e): Explain the pros and cons of gradient descent and stochastic gradient descent. "
      ]
    }
  ]
}